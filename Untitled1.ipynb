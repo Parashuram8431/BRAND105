{
 "cells": [
  {
   "cell_type": "code",
   "execution_count": null,
   "id": "1fb86739-f2c7-4574-8360-18cd3cc9b5e2",
   "metadata": {},
   "outputs": [],
   "source": []
  }
 ],
 "metadata": {
  "kernelspec": {
   "display_name": "",
   "name": ""
  },
  "language_info": {
   "name": ""
  }
 },
 "nbformat": 4,
 "nbformat_minor": 5
}
