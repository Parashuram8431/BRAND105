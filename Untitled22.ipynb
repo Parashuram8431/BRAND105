{
 "cells": [
  {
   "cell_type": "code",
   "execution_count": null,
   "id": "47ff4788-d3f6-48bc-9e23-16f11fb5bb36",
   "metadata": {},
   "outputs": [],
   "source": []
  }
 ],
 "metadata": {
  "kernelspec": {
   "display_name": "",
   "name": ""
  },
  "language_info": {
   "name": ""
  }
 },
 "nbformat": 4,
 "nbformat_minor": 5
}
